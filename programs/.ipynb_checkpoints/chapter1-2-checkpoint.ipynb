{
 "cells": [
  {
   "cell_type": "markdown",
   "metadata": {},
   "source": [
    "## 第一章 走近Python"
   ]
  },
  {
   "cell_type": "markdown",
   "metadata": {},
   "source": [
    "### exp-1: matplotlib绘图"
   ]
  },
  {
   "cell_type": "markdown",
   "metadata": {},
   "source": [
    "用plot函数一次画三条线：\n",
    "- 第一条 x1=t,y1=t\n",
    "- 第二条 x2=t,y2=t+2\n",
    "- 第三条 x3=t,y3=t**2"
   ]
  },
  {
   "cell_type": "code",
   "execution_count": 1,
   "metadata": {},
   "outputs": [
    {
     "data": {
      "image/png": "[encoded data removed]",
      "text/plain": [
       "<matplotlib.figure.Figure at 0x10c7b7f28>"
      ]
     },
     "metadata": {},
     "output_type": "display_data"
    }
   ],
   "source": [
    "import numpy as np\n",
    "import matplotlib.pyplot as plt\n",
    "t=np.arange(0.,4.,0.1)\n",
    "plt.plot(t,t,t,t+2,t,t**2)\n",
    "plt.show()"
   ]
  },
  {
   "cell_type": "markdown",
   "metadata": {},
   "source": [
    "### exp-2: 利用scipy.cluster聚类"
   ]
  },
  {
   "cell_type": "code",
   "execution_count": 2,
   "metadata": {},
   "outputs": [
    {
     "name": "stdout",
     "output_type": "stream",
     "text": [
      "[1 0 0 0 1 0]\n"
     ]
    }
   ],
   "source": [
    "from pylab import * \n",
    "from scipy.cluster.vq import * \n",
    "list1 = [88.0,74.0,96.0,85.0]\n",
    "list2 = [92.0,99.0,95.0,94.0]\n",
    "list3 = [91.0,87.0,99.0,95.0]\n",
    "list4 = [78.0,99.0,97.0,81.0]\n",
    "list5 = [88.0,78.0,98.0,84.0]\n",
    "list6 = [100.0,95.0,100.0,92.0]\n",
    "data = vstack((list1,list2,list3,list4,list5,list6))\n",
    "centroids,_ = kmeans(data,2)\n",
    "result,_= vq(data,centroids)\n",
    "print(result)"
   ]
  },
  {
   "cell_type": "markdown",
   "metadata": {},
   "source": [
    "## 第二章 Python面面观"
   ]
  },
  {
   "cell_type": "code",
   "execution_count": null,
   "metadata": {},
   "outputs": [],
   "source": []
  }
 ],
 "metadata": {
  "kernelspec": {
   "display_name": "Python 3",
   "language": "python",
   "name": "python3"
  },
  "language_info": {
   "codemirror_mode": {
    "name": "ipython",
    "version": 3
   },
   "file_extension": ".py",
   "mimetype": "text/x-python",
   "name": "python",
   "nbconvert_exporter": "python",
   "pygments_lexer": "ipython3",
   "version": "3.6.0"
  }
 },
 "nbformat": 4,
 "nbformat_minor": 2
}
